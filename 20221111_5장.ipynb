{
  "nbformat": 4,
  "nbformat_minor": 0,
  "metadata": {
    "colab": {
      "provenance": [],
      "authorship_tag": "ABX9TyN6AM/paEi1HThCzrT1T7Bf",
      "include_colab_link": true
    },
    "kernelspec": {
      "name": "python3",
      "display_name": "Python 3"
    },
    "language_info": {
      "name": "python"
    }
  },
  "cells": [
    {
      "cell_type": "markdown",
      "metadata": {
        "id": "view-in-github",
        "colab_type": "text"
      },
      "source": [
        "<a href=\"https://colab.research.google.com/github/wlstjwlstj/20221111-5-/blob/main/20221111_5%EC%9E%A5.ipynb\" target=\"_parent\"><img src=\"https://colab.research.google.com/assets/colab-badge.svg\" alt=\"Open In Colab\"/></a>"
      ]
    },
    {
      "cell_type": "markdown",
      "source": [
        "1. 다음 프로그램의 출력은 무엇인가?"
      ],
      "metadata": {
        "id": "spE737NPgC8E"
      }
    },
    {
      "cell_type": "code",
      "source": [
        "age=20\n",
        "if age<20:           #age의 값이 20미만인 경우에 참\n",
        "  print(\"20살 미만\")\n",
        "else:                #age의 값이 20이상인 경우에 \"20살 이상\" 출력\n",
        "  print(\"20살 이상\")  \n",
        "                     #20은 20 미만이 아니므로 20살 이상으로 출력됨"
      ],
      "metadata": {
        "colab": {
          "base_uri": "https://localhost:8080/"
        },
        "id": "5KpTg9THgET2",
        "outputId": "7bff02b5-a35e-446d-8769-9020efc72b9c"
      },
      "execution_count": 1,
      "outputs": [
        {
          "output_type": "stream",
          "name": "stdout",
          "text": [
            "20살 이상\n"
          ]
        }
      ]
    },
    {
      "cell_type": "markdown",
      "source": [
        "2. 1번 문제에서 age가 30 이상이고 50이하인 것을 체크하려면 어떻게 하여야 하는가?"
      ],
      "metadata": {
        "id": "uMzR3HRMgH-Y"
      }
    },
    {
      "cell_type": "code",
      "source": [
        "age=30\n",
        "                         #논리연산자 and 사용하여 조건 설정\n",
        "if age>=30 and age<=50:  #age의 값이 30이상 50이하인 경우 \"30살 이상 50살 이하\" 출력\n",
        "   print(\"30살 이상 50살 이하\")\n",
        "elif age<30:             #age의 값이 30미만인 경우 \"30살 미만\" 출력\n",
        "   print(\"30살 미만\")\n",
        "else:                    #age의 값이 50초과인 경우 \"50살 초과\" 출력\n",
        "   print(\"50살 초과\")"
      ],
      "metadata": {
        "colab": {
          "base_uri": "https://localhost:8080/"
        },
        "id": "GwzxP5v-gLUO",
        "outputId": "010c37b9-c8a8-4db0-f75f-8f3c500f0369"
      },
      "execution_count": 4,
      "outputs": [
        {
          "output_type": "stream",
          "name": "stdout",
          "text": [
            "30살 이상 50살 이하\n"
          ]
        }
      ]
    },
    {
      "cell_type": "markdown",
      "source": [
        "3. 사용자에게 현재 온도를 질문하고 온도가 25도 이상이면 반바지를 추천하고 25도 미만이면 긴바지를 추천하는 프로그램을 작성해보자."
      ],
      "metadata": {
        "id": "dhX7WPw8gN24"
      }
    },
    {
      "cell_type": "code",
      "source": [
        "temp=int(input(\"현재 온도를 입력하시오: \"))  #사용자로부터 온도 입력받음\n",
        "if temp>=25:                                 #온도가 25도 이상인 경우 \"반바지를 입으세요\" 출력\n",
        "  print(\"반바지를 입으세요\")\n",
        "else:                                        #온도가 25도 미만인 경우 \"긴바지를 입으세요\" 출력\n",
        "  print(\"긴바지를 입으세요\")"
      ],
      "metadata": {
        "colab": {
          "base_uri": "https://localhost:8080/"
        },
        "id": "MnpiumhAgTb3",
        "outputId": "2300a786-38dc-46e9-953b-783ade0dc30b"
      },
      "execution_count": 2,
      "outputs": [
        {
          "output_type": "stream",
          "name": "stdout",
          "text": [
            "현재 온도를 입력하시오: 10\n",
            "긴바지를 입으세요\n"
          ]
        }
      ]
    },
    {
      "cell_type": "markdown",
      "source": [
        "4. 학생의 시험 점수를 물어보고 시험 점수가 90이상이면 A, 80점 이상이면 B, 70점 이상이면 C, 60점 이상이면 D, 그외의 점수이면 F를 학점으로 주는 프로그램을 작성하라."
      ],
      "metadata": {
        "id": "a_JAQanEgW5w"
      }
    },
    {
      "cell_type": "code",
      "source": [
        "grade=int(input(\"성적을 입력하시오: \"))  #사용자로부터 성적 입력받음\n",
        "if grade>= 90:                  #grade의 값이 90점 이상이면 \"A\" 출력\n",
        "  print(\"A\")\n",
        "elif grade>= 80 and grade< 90:  #grade의 값이 90점 미만 80점 이상이면 \"B\" 출력\n",
        "  print(\"B\")\n",
        "elif grade>= 70 and grade< 80:  #grade의 값이 80점 미만 70점 이상이면 \"C\" 출력\n",
        "  print(\"C\")\n",
        "elif grade>= 60 and grade< 70:  #grade의 값이 70점 미만 60점 이상이면 \"D\" 출력\n",
        "  print(\"D\")\n",
        "else:                           #그 외의 값은 \"F\" 출력\n",
        "  print(\"F\")"
      ],
      "metadata": {
        "colab": {
          "base_uri": "https://localhost:8080/"
        },
        "id": "c9sShRUlgbXQ",
        "outputId": "b2a5161d-f8dd-4aa9-95a7-18158b937068"
      },
      "execution_count": 3,
      "outputs": [
        {
          "output_type": "stream",
          "name": "stdout",
          "text": [
            "성적을 입력하시오: 99\n",
            "A\n"
          ]
        }
      ]
    },
    {
      "cell_type": "markdown",
      "source": [
        "5. 난수를 사용하여 1부터 100 사이의 숫자를 사용하는 뺄셈 문제를 생성하고 사용자에게 물어본 후에 사용자의 답변이 올바른지를 검사하는 프로그램을 작성하라."
      ],
      "metadata": {
        "id": "KkQk5fAsgdl7"
      }
    },
    {
      "cell_type": "code",
      "source": [
        "import random\n",
        "x= random.randint(1,100)             #1부터 100사이의 난수 발생\n",
        "y= random.randint(1,100)             #1부터 100사이의 난수 발생\n",
        "n=int(input(str(x)+\"-\"+str(y)+\"=\"))  #사용자로부터 답 입력받음\n",
        "if n==(x-y):                         #사용자로부터 입력받은 답이 계산값과 일치하면 \"맞았습니다\" 출력\n",
        "   print(\"맞았습니다.\") \n",
        "else:                                #답이 계산값과 다르면 \"틀렸습니다.\" 출력\n",
        "   print(\"틀렸습니다.\")"
      ],
      "metadata": {
        "colab": {
          "base_uri": "https://localhost:8080/"
        },
        "id": "3TyhY10GgpnS",
        "outputId": "5c9445ed-6151-46e3-fbda-0bba01583753"
      },
      "execution_count": 5,
      "outputs": [
        {
          "output_type": "stream",
          "name": "stdout",
          "text": [
            "76-15=61\n",
            "맞았습니다.\n"
          ]
        }
      ]
    },
    {
      "cell_type": "markdown",
      "source": [
        "6. 사용자로부터 정수를 받아서 이 정수가 2와 3으로 나누어 떨어질 수 있는지를 출력하라."
      ],
      "metadata": {
        "id": "cuUaBQ7ggvGg"
      }
    },
    {
      "cell_type": "code",
      "source": [
        "n=int(input(\"정수를 입력하시오:\"))\n",
        "if n%2==0 and n%3==0:                     #논리연산자 이용, 2와 3으로 나눈 나머지가 0이면\n",
        "  print(\"2와 3으로 나누어 떨어집니다.\")   #\"2와 3으로 나누어 떨어집니다\" 출력\n",
        "elif n%2==0:                              #2로 나눈 나머지만 0이면 \"2로 나누어 떨어집니다.\" 출력\n",
        "  print(\"2로 나누어 떨어집니다.\")\n",
        "elif n%3==0:                              #3으로 나눈 나머지만 0이면 \"3으로 나누어 떨어집니다.\" 출력\n",
        "  print(\"3으로 나누어 떨어집니다.\")\n",
        "else:                                     #둘 다 나머지가 0이 아니면 \"2와 3으로 나누어 떨어지지 않습니다.\" 출력\n",
        "  print(\"2와 3으로 나누어 떨어지지 않습니다.\")"
      ],
      "metadata": {
        "colab": {
          "base_uri": "https://localhost:8080/"
        },
        "id": "QubXHzsLgx8g",
        "outputId": "06ee34f3-8ade-4b20-b8c5-cebe2ed0d5d3"
      },
      "execution_count": 6,
      "outputs": [
        {
          "output_type": "stream",
          "name": "stdout",
          "text": [
            "정수를 입력하시오:6\n",
            "2와 3으로 나누어 떨어집니다.\n"
          ]
        }
      ]
    },
    {
      "cell_type": "markdown",
      "source": [
        "7. 2자리 숫자로 이루어진 복권이 있다. 사용자가 가지고 있는 복권 번호가 2자리 모두 일치하면 100만원을 받는다. 2자리 중에서 하나만 일치하면 50만원을 받는다. 하나도 일치하지 않으면 상금은 없다. 복권 당첨 번호는 난수로 생성하고 사용자의 입력에 따라서 상금이 얼마인지를 출력하는 프로그램을 작성하라."
      ],
      "metadata": {
        "id": "RYUnSA5Tg0bi"
      }
    },
    {
      "cell_type": "code",
      "source": [
        "import random\n",
        "solution= random.randint(0,99)\n",
        "digit1= solution//10\n",
        "digit2= solution%10\n",
        "\n",
        "user= int(input(\"복권 번호를 입력하시오(0에서 99사이): \"))\n",
        "n1= user//10\n",
        "n2=user%10\n",
        "\n",
        "print(\"당첨번호는 %s입니다.\" %solution)\n",
        "if (solution==user):\n",
        "  print(\"상금은 100만원입니다.\")\n",
        "elif (n1==digit1) or (n2==digit2):\n",
        "  print(\"상금은 50만원입니다.\")\n",
        "else:\n",
        "  print(\"꽝입니다.\")"
      ],
      "metadata": {
        "colab": {
          "base_uri": "https://localhost:8080/"
        },
        "id": "85V2ts43g48I",
        "outputId": "89a7844b-27b4-48ee-8926-8d97d4d80031"
      },
      "execution_count": 7,
      "outputs": [
        {
          "output_type": "stream",
          "name": "stdout",
          "text": [
            "복권 번호를 입력하시오(0에서 99사이): 67\n",
            "당첨번호는 46입니다.\n",
            "꽝입니다.\n"
          ]
        }
      ]
    },
    {
      "cell_type": "markdown",
      "source": [
        "8. 사용자로부터 2개의 원에 대한 정보를 받아서 화면에 원을 그린 후에 조건문을 사용하여 큰 원 안에 작은 원이 포함되는지를 판단하는 프로그램을 작성하라."
      ],
      "metadata": {
        "id": "-EIMyX2Hg9mq"
      }
    },
    {
      "cell_type": "code",
      "source": [
        "import math\n",
        "import turtle\n",
        "x1=int(input(\"큰 원의 중심좌표 x1: \"))\n",
        "y1=int(input(\"큰 원의 중심좌표 y1: \"))\n",
        "r1=int(input(\"큰 원의 반지름: \"))\n",
        "x2=int(input(\"작은 원의 중심좌표 x2: \"))\n",
        "y2=int(input(\"작은 원의 중심좌표 y2: \"))\n",
        "r2=int(input(\"작은 원의 반지름: \"))\n",
        "distance=((x1-x2)**2+(y1-y2)**2)**0.5  #원1과 원2의 거리 계산\n",
        "t=turtle.Turtle()\n",
        "t.shape(\"turtle\")\n",
        "t.up()                                 #펜 들음\n",
        "t.goto(x1,y1-r1)                       #좌표로 이동\n",
        "t.down                                 #펜 놓음\n",
        "t.circle(r1) \n",
        "t.up()\n",
        "t.goto(x2,y2-r2)\n",
        "t.down()\n",
        "t.circle(r2)\n",
        "\n",
        "if distance<(r1-r2):\n",
        "    t.write(\"두번째 원이 첫번째 원의 내부에 있습니다.\")\n",
        "elif distance==(r1+r2):\n",
        "    t.write(\"두번째 원과 첫번째 원이 겹쳐있습니다.\")\n",
        "else:\n",
        "    t.write(\"두번째 원이 첫번째 원의 내부에 있지 않습니다.\")"
      ],
      "metadata": {
        "id": "ZxgbTMcHhIcA"
      },
      "execution_count": null,
      "outputs": []
    }
  ]
}